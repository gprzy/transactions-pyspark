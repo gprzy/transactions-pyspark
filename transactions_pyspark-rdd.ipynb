{
  "nbformat": 4,
  "nbformat_minor": 0,
  "metadata": {
    "colab": {
      "name": "transactions-pyspark.ipynb",
      "provenance": [],
      "collapsed_sections": []
    },
    "kernelspec": {
      "display_name": "Python 3",
      "name": "python3"
    },
    "language_info": {
      "name": "python"
    }
  },
  "cells": [
    {
      "cell_type": "markdown",
      "metadata": {
        "id": "ulTpzYCEHdYv"
      },
      "source": [
        "# TDE 3 - Big Data Processing with Apache Spark"
      ]
    },
    {
      "cell_type": "markdown",
      "metadata": {
        "id": "i9loVTqT0VA-"
      },
      "source": [
        "## Imports & Configs"
      ]
    },
    {
      "cell_type": "code",
      "metadata": {
        "colab": {
          "base_uri": "https://localhost:8080/"
        },
        "id": "_6ey7id17vAO",
        "outputId": "088acee5-77aa-4b12-8afe-bc160afe82f7"
      },
      "source": [
        "!pip install pyspark"
      ],
      "execution_count": null,
      "outputs": [
        {
          "output_type": "stream",
          "text": [
            "Requirement already satisfied: pyspark in /usr/local/lib/python3.7/dist-packages (3.1.2)\n",
            "Requirement already satisfied: py4j==0.10.9 in /usr/local/lib/python3.7/dist-packages (from pyspark) (0.10.9)\n"
          ],
          "name": "stdout"
        }
      ]
    },
    {
      "cell_type": "code",
      "metadata": {
        "id": "EfaxyJD6HjBv"
      },
      "source": [
        "import pyspark\n",
        "from pyspark import SparkFiles\n",
        "from pyspark.sql import SparkSession\n",
        "\n",
        "# SparkSQL\n",
        "import pyspark.sql.functions as f"
      ],
      "execution_count": null,
      "outputs": []
    },
    {
      "cell_type": "markdown",
      "metadata": {
        "id": "PqJifRXTgfSc"
      },
      "source": [
        "## Coletando os dados"
      ]
    },
    {
      "cell_type": "code",
      "metadata": {
        "colab": {
          "base_uri": "https://localhost:8080/"
        },
        "id": "mgON_gvVgXzo",
        "outputId": "d1cd4a6e-1671-41e6-d777-09f56715fe21"
      },
      "source": [
        "!wget -nc 'http://www.ppgia.pucpr.br/~jean.barddal/bigdata/transactions.csv.zip'\n",
        "!unzip -n transactions.csv.zip"
      ],
      "execution_count": null,
      "outputs": [
        {
          "output_type": "stream",
          "text": [
            "File ‘transactions.csv.zip’ already there; not retrieving.\n",
            "\n",
            "Archive:  transactions.csv.zip\n"
          ],
          "name": "stdout"
        }
      ]
    },
    {
      "cell_type": "markdown",
      "metadata": {
        "id": "v1j7_bKH1Hy0"
      },
      "source": [
        "## Iniciando a sessão `spark`"
      ]
    },
    {
      "cell_type": "code",
      "metadata": {
        "id": "mZDkRwicMoLw"
      },
      "source": [
        "spark = SparkSession.builder.appName('Transactions').getOrCreate()\n",
        "sc = spark.sparkContext"
      ],
      "execution_count": null,
      "outputs": []
    },
    {
      "cell_type": "markdown",
      "metadata": {
        "id": "YyeXDRMmfFqH"
      },
      "source": [
        "## Formato `RDD`"
      ]
    },
    {
      "cell_type": "code",
      "metadata": {
        "id": "YHzsIpiM1mGc"
      },
      "source": [
        "rdd = sc.textFile(\"transactions.csv\") \\\n",
        "        .map(lambda x: x.split(\";\")) \\\n",
        "        .filter(lambda a: a[0] != \"country_or_area\") \\\n",
        "        .filter(lambda a: a[2] != 'TOTAL')"
      ],
      "execution_count": null,
      "outputs": []
    },
    {
      "cell_type": "code",
      "metadata": {
        "id": "1lZ23VRRvHME"
      },
      "source": [
        "# Visualizando as 5 primeiras instâncias\n",
        "#rdd.take(5)"
      ],
      "execution_count": null,
      "outputs": []
    },
    {
      "cell_type": "markdown",
      "metadata": {
        "id": "v3N9XwdqfNJe"
      },
      "source": [
        "## Formato `csv` para SparkSQL"
      ]
    },
    {
      "cell_type": "code",
      "metadata": {
        "id": "STL3CSBEfT97"
      },
      "source": [
        "df = spark.read.csv(\"transactions.csv\", header=True, inferSchema=True, sep=\";\")"
      ],
      "execution_count": null,
      "outputs": []
    },
    {
      "cell_type": "code",
      "metadata": {
        "id": "2h90sbpdq20d"
      },
      "source": [
        "# Configuração para realizar consultas com SQL\n",
        "df.createOrReplaceTempView('table')"
      ],
      "execution_count": null,
      "outputs": []
    },
    {
      "cell_type": "code",
      "metadata": {
        "colab": {
          "base_uri": "https://localhost:8080/"
        },
        "id": "9IuntcOBfisz",
        "outputId": "3811ae98-5a6c-4345-d791-efb033049cb8"
      },
      "source": [
        "# Visualizando as 5 primeiras instâncias\n",
        "df.show(5)"
      ],
      "execution_count": null,
      "outputs": [
        {
          "output_type": "stream",
          "text": [
            "+---------------+----+---------+--------------------+------+---------+---------+---------------+--------+---------------+\n",
            "|country_or_area|year|comm_code|           commodity|  flow|trade_usd|weight_kg|  quantity_name|quantity|       category|\n",
            "+---------------+----+---------+--------------------+------+---------+---------+---------------+--------+---------------+\n",
            "|    Afghanistan|2016|   010410|         Sheep, live|Export|     6088|     2339|Number of items|    51.0|01_live_animals|\n",
            "|    Afghanistan|2016|   010420|         Goats, live|Export|     3958|      984|Number of items|    53.0|01_live_animals|\n",
            "|    Afghanistan|2008|   010210|Bovine animals, l...|Import|  1026804|      272|Number of items|  3769.0|01_live_animals|\n",
            "|        Albania|2016|   010290|Bovine animals, l...|Import|  2414533|  1114023|Number of items|  6853.0|01_live_animals|\n",
            "|        Albania|2016|   010392|Swine, live excep...|Import| 14265937|  9484953|Number of items| 96040.0|01_live_animals|\n",
            "+---------------+----+---------+--------------------+------+---------+---------+---------------+--------+---------------+\n",
            "only showing top 5 rows\n",
            "\n"
          ],
          "name": "stdout"
        }
      ]
    },
    {
      "cell_type": "markdown",
      "metadata": {
        "id": "fGLDbnzEDlcW"
      },
      "source": [
        "## Library Functions"
      ]
    },
    {
      "cell_type": "code",
      "metadata": {
        "id": "y0sO9QQKDp8u"
      },
      "source": [
        "from pathlib import Path\n",
        "from shutil import rmtree\n",
        "\n",
        "def save_rdd_to_file(rdd, filename: str):\n",
        "        out_dir = Path(\"output_dir\")\n",
        "        file = Path(\"output_dir\") / filename\n",
        "        if file.exists():\n",
        "            rmtree(out_dir)\n",
        "        rdd.coalesce(1).saveAsTextFile(str(file))\n",
        "\n",
        "\n",
        "def save_rdd(fn):\n",
        "\n",
        "    def wrapper(*argv,**kwargs):\n",
        "        dname = fn.__name__\n",
        "        rdd = fn()\n",
        "        save_rdd_to_file(rdd, dname)\n",
        "        return rdd\n",
        "\n",
        "    return wrapper"
      ],
      "execution_count": null,
      "outputs": []
    },
    {
      "cell_type": "markdown",
      "metadata": {
        "id": "pCxz-mQs2BGr"
      },
      "source": [
        "---"
      ]
    },
    {
      "cell_type": "markdown",
      "metadata": {
        "id": "TR8DKqcj2p3J"
      },
      "source": [
        "# Using `RDD`"
      ]
    },
    {
      "cell_type": "markdown",
      "metadata": {
        "id": "3EHXBaNu6kUs"
      },
      "source": [
        "## **1. The number of transactions involving Brazil**;"
      ]
    },
    {
      "cell_type": "code",
      "metadata": {
        "colab": {
          "base_uri": "https://localhost:8080/"
        },
        "id": "r84-UtfSwYFV",
        "outputId": "19a965b8-8e5a-4c7b-8456-54c91617ea76"
      },
      "source": [
        "# Map\n",
        "brazil_transactions = rdd.filter(lambda x: x[0] == \"Brazil\") \\\n",
        "                         .map(lambda x: (x[0], 1))\n",
        "\n",
        " # Reduce\n",
        "brazil_transactions.reduceByKey(lambda a, b: a + b).take(1)"
      ],
      "execution_count": null,
      "outputs": [
        {
          "output_type": "execute_result",
          "data": {
            "text/plain": [
              "[('Brazil', 184678)]"
            ]
          },
          "metadata": {
            "tags": []
          },
          "execution_count": 11
        }
      ]
    },
    {
      "cell_type": "markdown",
      "metadata": {
        "id": "SNsx4dHh6pBi"
      },
      "source": [
        "**Answer:** The number of transactions involving Brazil are 184748"
      ]
    },
    {
      "cell_type": "markdown",
      "metadata": {
        "id": "oahulH6m7Ir0"
      },
      "source": [
        "## **2. The number of transactions per year**;"
      ]
    },
    {
      "cell_type": "code",
      "metadata": {
        "colab": {
          "base_uri": "https://localhost:8080/"
        },
        "id": "QVhXrMCL9bkT",
        "outputId": "eb2bc077-3555-4455-fe89-85141e02b81e"
      },
      "source": [
        "@save_rdd\n",
        "def ex2():\n",
        "    # Map\n",
        "    transactions_per_year = rdd.map(lambda x: (x[1], 1))\n",
        "\n",
        "    # Reduce\n",
        "    return transactions_per_year.reduceByKey(lambda a, b: a + b) \\\n",
        "                                .sortBy(lambda a: a[0])\n",
        "\n",
        "\n",
        "ex2().take(5)"
      ],
      "execution_count": null,
      "outputs": [
        {
          "output_type": "execute_result",
          "data": {
            "text/plain": [
              "[('1988', 30970),\n",
              " ('1989', 63865),\n",
              " ('1990', 72190),\n",
              " ('1991', 83843),\n",
              " ('1992', 121059)]"
            ]
          },
          "metadata": {
            "tags": []
          },
          "execution_count": 12
        }
      ]
    },
    {
      "cell_type": "markdown",
      "metadata": {
        "id": "ACg6TXNj3_sC"
      },
      "source": [
        "## **3. The most commercialized commodity (summing the quantities) in 2016, per flow type**;"
      ]
    },
    {
      "cell_type": "code",
      "metadata": {
        "id": "SjLGgC0oZh6F",
        "colab": {
          "base_uri": "https://localhost:8080/"
        },
        "outputId": "1e1f05a2-2220-4f77-afdf-97cfb511cbe1"
      },
      "source": [
        "def sumQuantitiesCom(data):\n",
        "  com = data[3]\n",
        "  weight = data[6]\n",
        "  weight = int(weight) if weight else 0\n",
        "  flow = data[4]\n",
        "\n",
        "  return (com, flow), weight\n",
        "\n",
        "@save_rdd\n",
        "def ex3():\n",
        "  year2016 = rdd.filter(lambda a: a[1] == \"2016\") \\\n",
        "\n",
        "  quantitiesComm = year2016.map(sumQuantitiesCom) \\\n",
        "                           .reduceByKey(lambda a,b: a+b)\n",
        "\n",
        "  flowGroup = quantitiesComm.map(lambda data: (data[0][1], (data[0][0], data[1]))) \\\n",
        "                            .reduceByKey(lambda a,b: a if b[1] < a[1] else b) \\\n",
        "                            .sortBy(lambda a: a[1][1])\n",
        "  \n",
        "  return flowGroup\n",
        "\n",
        "   \n",
        "ex3().take(5)"
      ],
      "execution_count": null,
      "outputs": [
        {
          "output_type": "execute_result",
          "data": {
            "text/plain": [
              "[('Re-Import', ('Lumber, coniferous (softwood) thickness < 6 mm', 51951285)),\n",
              " ('Re-Export',\n",
              "  ('Oils petroleum, bituminous, distillates, except crude', 1452933784)),\n",
              " ('Export',\n",
              "  ('Iron ore, concentrate, not iron pyrites,unagglomerate', 1343444789618)),\n",
              " ('Import',\n",
              "  ('Iron ore, concentrate, not iron pyrites,unagglomerate', 1362436716054))]"
            ]
          },
          "metadata": {
            "tags": []
          },
          "execution_count": 13
        }
      ]
    },
    {
      "cell_type": "markdown",
      "metadata": {
        "id": "7B6IeYdf3_sG"
      },
      "source": [
        "## **4. The average of commodity values per year**;"
      ]
    },
    {
      "cell_type": "code",
      "metadata": {
        "id": "KFi6cGL7cKp-",
        "colab": {
          "base_uri": "https://localhost:8080/"
        },
        "outputId": "0f3baf07-c581-4113-b804-af35d84344dd"
      },
      "source": [
        "@save_rdd\n",
        "def ex4():\n",
        "  perYear = rdd.map(lambda data: (data[1], (float(data[5]), 1)))\n",
        "\n",
        "  meanYear = perYear \\\n",
        "            .reduceByKey(lambda a, b: (a[0] + b[0], a[1] + b[1])) \\\n",
        "            .map(lambda data: (data[0], (data[1][0] / data[1][1]))) \\\n",
        "            .sortBy(lambda data: data[0])\n",
        "\n",
        "  return meanYear\n",
        "\n",
        "ex4().take(5)"
      ],
      "execution_count": null,
      "outputs": [
        {
          "output_type": "execute_result",
          "data": {
            "text/plain": [
              "[('1988', 14906524.119341299),\n",
              " ('1989', 12658458.36696156),\n",
              " ('1990', 12931120.22652722),\n",
              " ('1991', 12950854.07263576),\n",
              " ('1992', 11579386.262822261)]"
            ]
          },
          "metadata": {
            "tags": []
          },
          "execution_count": 14
        }
      ]
    },
    {
      "cell_type": "markdown",
      "metadata": {
        "id": "ypmnE_gY3_sH"
      },
      "source": [
        "## **5. The average price of commodities per unit type, year, and category in the export flow in Brazil**;"
      ]
    },
    {
      "cell_type": "code",
      "metadata": {
        "id": "1rfFUomqdEBs",
        "colab": {
          "base_uri": "https://localhost:8080/"
        },
        "outputId": "2fb0dfed-b15e-4524-a591-cfaf173ef36a"
      },
      "source": [
        "@save_rdd\n",
        "def ex5():\n",
        "  perYear = rdd.filter(lambda a: a[0].upper() == 'BRAZIL') \\\n",
        "               .filter(lambda a: a[4].upper() == 'EXPORT') \\\n",
        "               .filter(lambda a: a[5].isnumeric()) \\\n",
        "               .map(lambda data: ((data[1], data[7], data[9]), (float(data[5]), 1)))\n",
        "\n",
        "  meanYear = perYear \\\n",
        "            .reduceByKey(lambda a, b: (a[0] + b[0], a[1] + b[1])) \\\n",
        "            .map(lambda data: (data[0], (data[1][0] / data[1][1]))) \\\n",
        "            .sortBy(lambda data: (data[0][0], data[0][2]))\n",
        "\n",
        "  return meanYear\n",
        "\n",
        "ex5().take(5)"
      ],
      "execution_count": null,
      "outputs": [
        {
          "output_type": "execute_result",
          "data": {
            "text/plain": [
              "[(('1989', 'Weight in kilograms', '01_live_animals'), 351970.2),\n",
              " (('1989', 'Weight in kilograms', '02_meat_and_edible_meat_offal'),\n",
              "  14544145.46875),\n",
              " (('1989',\n",
              "   'Weight in kilograms',\n",
              "   '03_fish_crustaceans_molluscs_aquatic_invertebrates_ne'),\n",
              "  3150434.7),\n",
              " (('1989',\n",
              "   'Volume in litres',\n",
              "   '04_dairy_products_eggs_honey_edible_animal_product_nes'),\n",
              "  210515.16666666666),\n",
              " (('1989',\n",
              "   'Number of items',\n",
              "   '04_dairy_products_eggs_honey_edible_animal_product_nes'),\n",
              "  760340.3333333334)]"
            ]
          },
          "metadata": {
            "tags": []
          },
          "execution_count": 15
        }
      ]
    },
    {
      "cell_type": "markdown",
      "metadata": {
        "id": "gJq_P1bJ3_sH"
      },
      "source": [
        "## **6. The commodity with the highest price per unit type and year**;"
      ]
    },
    {
      "cell_type": "code",
      "metadata": {
        "id": "oeJqZBnirTIz",
        "colab": {
          "base_uri": "https://localhost:8080/"
        },
        "outputId": "f027635e-e06a-42f1-cde6-06dc14b3afb8"
      },
      "source": [
        "@save_rdd\n",
        "def ex6_the_commodity_with_the_highest_price_per_unit_type_and_year():\n",
        "    \"\"\"\n",
        "    Map:\n",
        "        map: Mapeando as colunas quantity_name e year, inserindo as instâncias \n",
        "        no formato ((quantity_name, year), trade_usd)\n",
        "\n",
        "        filter: Filtrando pelo elemento trade_usd da tupla\n",
        "\n",
        "    Reduce:\n",
        "        reduceByKey: Fazendo reduce e obtendo o maior preço\n",
        "        sortBy: Ordenando os elementos\n",
        "    \"\"\"\n",
        "\n",
        "    # Map                       \n",
        "    hp_comm_unit_type_year = rdd.map(lambda x: ((x[7], x[1]), float(x[5]))) \\\n",
        "                                .filter(lambda x: x[1])\n",
        "\n",
        "    # Reduce\n",
        "    return hp_comm_unit_type_year.reduceByKey(lambda a, b: a if a > b else b) \\\n",
        "                                 .sortBy(lambda a: a[0])\n",
        "                                    \n",
        "\n",
        "# Chamando a função e exibindo 29 instâncias iniciais\n",
        "ex6_the_commodity_with_the_highest_price_per_unit_type_and_year().take(5)"
      ],
      "execution_count": null,
      "outputs": [
        {
          "output_type": "execute_result",
          "data": {
            "text/plain": [
              "[(('Area in square metres', '1988'), 403386005.0),\n",
              " (('Area in square metres', '1989'), 367370724.0),\n",
              " (('Area in square metres', '1990'), 347716597.0),\n",
              " (('Area in square metres', '1991'), 403965643.0),\n",
              " (('Area in square metres', '1992'), 323730149.0)]"
            ]
          },
          "metadata": {
            "tags": []
          },
          "execution_count": 26
        },
        {
          "output_type": "execute_result",
          "data": {
            "text/plain": [
              "[(('Area in square metres', '1988'), 403386005.0),\n",
              " (('Area in square metres', '1989'), 367370724.0),\n",
              " (('Area in square metres', '1990'), 347716597.0),\n",
              " (('Area in square metres', '1991'), 403965643.0),\n",
              " (('Area in square metres', '1992'), 323730149.0)]"
            ]
          },
          "metadata": {
            "tags": []
          },
          "execution_count": 27
        }
      ]
    },
    {
      "cell_type": "markdown",
      "metadata": {
        "id": "M81eFx213_sI"
      },
      "source": [
        "## **7. The number of transactions per flow type and year**;"
      ]
    },
    {
      "cell_type": "code",
      "metadata": {
        "id": "ywnCL4iCyNxM",
        "colab": {
          "base_uri": "https://localhost:8080/"
        },
        "outputId": "2f7c7ad9-c325-422c-a518-50a786d53ebe"
      },
      "source": [
        "@save_rdd\n",
        "def ex7_the_number_of_transactions_per_flow_type_and_year():\n",
        "    \"\"\"\n",
        "    Map:\n",
        "        map: Mapeando as colunas flow e year, inserindo no formato ((flow, year), 1)\n",
        "        filter: Filtrando apenas o valor 1 da tupla\n",
        "\n",
        "    Reduce:\n",
        "        reduceByKey: Fazendo reduce e obtendo o número de transações\n",
        "        sortBy: Ordenando os elementos\n",
        "    \"\"\"\n",
        "\n",
        "    # Map                       \n",
        "    no_trans_flowtype_year = rdd.map(lambda x: ((x[4], x[1]), 1)) \\\n",
        "                                .filter(lambda x: x[1])\n",
        "\n",
        "    # Reduce\n",
        "    return no_trans_flowtype_year.reduceByKey(lambda a, b: a + b) \\\n",
        "                                 .sortBy(lambda a: a[0])\n",
        "\n",
        "\n",
        "# Chamando a função e exibindo 29 instâncias iniciais\n",
        "ex7_the_number_of_transactions_per_flow_type_and_year().take(5)"
      ],
      "execution_count": null,
      "outputs": [
        {
          "output_type": "execute_result",
          "data": {
            "text/plain": [
              "[(('Export', '1988'), 12499),\n",
              " (('Export', '1989'), 26140),\n",
              " (('Export', '1990'), 29139),\n",
              " (('Export', '1991'), 32808),\n",
              " (('Export', '1992'), 45755)]"
            ]
          },
          "metadata": {
            "tags": []
          },
          "execution_count": 17
        }
      ]
    }
  ]
}